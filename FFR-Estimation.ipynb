{
 "cells": [
  {
   "cell_type": "markdown",
   "id": "negative-audit",
   "metadata": {
    "papermill": {
     "duration": 0.049693,
     "end_time": "2021-05-01T01:42:34.889777",
     "exception": false,
     "start_time": "2021-05-01T01:42:34.840084",
     "status": "completed"
    },
    "tags": []
   },
   "source": [
    "## LAD-FFR-Estimation\n",
    "### Non-Invasive Fractional Flow Reserve Estimation using Deep Learning on Intermediate Left Anterior Descending Coronary Artery Lesion Angiography Images.\n",
    "#### _ M. Aria"
   ]
  },
  {
   "cell_type": "code",
   "execution_count": null,
   "id": "presidential-castle",
   "metadata": {
    "_cell_guid": "b1076dfc-b9ad-4769-8c92-a6c4dae69d19",
    "_uuid": "8f2839f25d086af736a60e9eeb907d3b93b6e0e5",
    "execution": {
     "iopub.execute_input": "2021-05-01T01:42:35.011408Z",
     "iopub.status.busy": "2021-05-01T01:42:35.008918Z",
     "iopub.status.idle": "2021-05-01T01:42:47.762496Z",
     "shell.execute_reply": "2021-05-01T01:42:47.763084Z"
    },
    "papermill": {
     "duration": 12.826235,
     "end_time": "2021-05-01T01:42:47.763417",
     "exception": false,
     "start_time": "2021-05-01T01:42:34.937182",
     "status": "completed"
    },
    "tags": []
   },
   "outputs": [],
   "source": [
    "import datetime\n",
    "total_start = datetime.datetime.now()\n",
    "\n",
    "import os, random, math, itertools\n",
    "import numpy as np, pandas as pd\n",
    "\n",
    "SEED = 42\n",
    "os.environ['PYTHONHASHSEED']=str(SEED)\n",
    "np.random.seed(SEED)\n",
    "random.seed(SEED)\n",
    "\n",
    "import tensorflow as tf\n",
    "tf.random.set_seed(SEED)\n",
    "import tensorflow.keras\n",
    "import tensorflow_addons as tfa\n",
    "from tensorflow.keras.layers import Dense, BatchNormalization, Dropout, Input\n",
    "from tensorflow.keras.models import Sequential, load_model\n",
    "from tensorflow.keras import regularizers\n",
    "from tensorflow.keras.callbacks import ModelCheckpoint, ReduceLROnPlateau, EarlyStopping\n",
    "from tensorflow.keras.layers.experimental import preprocessing\n",
    "import tensorflow.keras.backend as K\n",
    "\n",
    "from tensorflow.keras.applications import DenseNet169\n",
    "NETWORK = DenseNet169\n",
    "\n",
    "from kaggle_datasets import KaggleDatasets\n",
    "\n",
    "from sklearn.model_selection import train_test_split\n",
    "from sklearn import metrics\n",
    "\n",
    "import matplotlib.pyplot as plt\n",
    "from matplotlib import cm\n",
    "import seaborn as sns\n",
    "%matplotlib inline\n",
    "\n",
    "try:\n",
    "    tpu = None\n",
    "    tpu = tf.distribute.cluster_resolver.TPUClusterResolver()\n",
    "    print('Device:', tpu.master())\n",
    "    tf.config.experimental_connect_to_cluster(tpu)\n",
    "    tf.tpu.experimental.initialize_tpu_system(tpu)\n",
    "\n",
    "    strategy = tf.distribute.experimental.TPUStrategy(tpu)\n",
    "except:\n",
    "    strategy = tf.distribute.get_strategy()\n",
    "print('Number of replicas:', strategy.num_replicas_in_sync)\n",
    "    \n",
    "print(\"Tensorflow version \", tf.__version__)"
   ]
  },
  {
   "cell_type": "code",
   "execution_count": null,
   "id": "prime-bundle",
   "metadata": {
    "execution": {
     "iopub.execute_input": "2021-05-01T01:42:47.867768Z",
     "iopub.status.busy": "2021-05-01T01:42:47.866587Z",
     "iopub.status.idle": "2021-05-01T01:42:47.870746Z",
     "shell.execute_reply": "2021-05-01T01:42:47.871514Z"
    },
    "papermill": {
     "duration": 0.059431,
     "end_time": "2021-05-01T01:42:47.871786",
     "exception": false,
     "start_time": "2021-05-01T01:42:47.812355",
     "status": "completed"
    },
    "tags": []
   },
   "outputs": [],
   "source": [
    "from tensorflow.keras import mixed_precision\n",
    "print('Mixed precision enabled')\n",
    "\n",
    "tf.config.optimizer.set_jit(True)\n",
    "print('Accelerated Linear Algebra enabled')"
   ]
  },
  {
   "cell_type": "code",
   "execution_count": null,
   "id": "assigned-error",
   "metadata": {
    "execution": {
     "iopub.execute_input": "2021-05-01T01:42:47.983286Z",
     "iopub.status.busy": "2021-05-01T01:42:47.982385Z",
     "iopub.status.idle": "2021-05-01T01:42:48.207083Z",
     "shell.execute_reply": "2021-05-01T01:42:48.206294Z"
    },
    "papermill": {
     "duration": 0.286008,
     "end_time": "2021-05-01T01:42:48.207239",
     "exception": false,
     "start_time": "2021-05-01T01:42:47.921231",
     "status": "completed"
    },
    "tags": []
   },
   "outputs": [],
   "source": [
    "from kaggle_secrets import UserSecretsClient\n",
    "user_secrets = UserSecretsClient()\n",
    "user_credential = user_secrets.get_gcloud_credential()\n",
    "\n",
    "user_secrets.set_tensorflow_credential(user_credential)"
   ]
  },
  {
   "cell_type": "code",
   "execution_count": null,
   "id": "center-filing",
   "metadata": {
    "execution": {
     "iopub.execute_input": "2021-05-01T01:42:48.418885Z",
     "iopub.status.busy": "2021-05-01T01:42:48.418174Z",
     "iopub.status.idle": "2021-05-01T01:42:48.421062Z",
     "shell.execute_reply": "2021-05-01T01:42:48.420476Z"
    },
    "papermill": {
     "duration": 0.060288,
     "end_time": "2021-05-01T01:42:48.421200",
     "exception": false,
     "start_time": "2021-05-01T01:42:48.360912",
     "status": "completed"
    },
    "tags": []
   },
   "outputs": [],
   "source": [
    "from tensorflow.keras.callbacks import Callback\n",
    "class CosineAnnealingScheduler(Callback):\n",
    "\n",
    "    def __init__(self, T_max, eta_max, eta_min=0, verbose=0):\n",
    "        super(CosineAnnealingScheduler, self).__init__()\n",
    "        self.T_max = T_max\n",
    "        self.eta_max = eta_max\n",
    "        self.eta_min = eta_min\n",
    "        self.verbose = verbose\n",
    "\n",
    "    def on_epoch_begin(self, epoch, logs=None):\n",
    "        if not hasattr(self.model.optimizer, 'lr'):\n",
    "            raise ValueError('Optimizer must have a \"lr\" attribute.')\n",
    "        lr = self.eta_min + (self.eta_max - self.eta_min) * (1 + math.cos(math.pi * epoch / self.T_max)) / 2\n",
    "        K.set_value(self.model.optimizer.lr, lr)\n",
    "        if self.verbose > 0:\n",
    "            print('\\nEpoch %05d: CosineAnnealingScheduler setting learning '\n",
    "                  'rate to %s.' % (epoch + 1, lr))\n",
    "\n",
    "    def on_epoch_end(self, epoch, logs=None):\n",
    "        logs = logs or {}\n",
    "        logs['lr'] = K.get_value(self.model.optimizer.lr)"
   ]
  },
  {
   "cell_type": "code",
   "execution_count": null,
   "id": "reliable-gamma",
   "metadata": {
    "_cell_guid": "79c7e3d0-c299-4dcb-8224-4455121ee9b0",
    "_uuid": "d629ff2d2480ee46fbb7e2d37f6b5fab8052498a",
    "execution": {
     "iopub.execute_input": "2021-05-01T01:42:48.640790Z",
     "iopub.status.busy": "2021-05-01T01:42:48.633785Z",
     "iopub.status.idle": "2021-05-01T01:42:49.150194Z",
     "shell.execute_reply": "2021-05-01T01:42:49.150816Z"
    },
    "papermill": {
     "duration": 0.578227,
     "end_time": "2021-05-01T01:42:49.151000",
     "exception": false,
     "start_time": "2021-05-01T01:42:48.572773",
     "status": "completed"
    },
    "tags": []
   },
   "outputs": [],
   "source": [
    "AUTOTUNE = tf.data.experimental.AUTOTUNE\n",
    "\n",
    "dataset_id = 'lad-ffr'\n",
    "GCS_PATH = KaggleDatasets().get_gcs_path(dataset_id)\n",
    "BATCH_SIZE = 128 * strategy.num_replicas_in_sync\n",
    "\n",
    "CLASSES = ['FFRH', 'FFRL']\n",
    "NUM_CLASSES = len(CLASSES)\n",
    "IMAGE_SIZE = [380, 380]\n",
    "input_shape = (380, 380, 3)\n",
    "\n",
    "LOSS = tf.keras.losses.CategoricalCrossentropy(label_smoothing=0.2)\n",
    "METRICS = ['accuracy']\n",
    "\n",
    "Epochs = 120\n",
    "Early_Stop = 10\n",
    "OPTIMIZER = tensorflow.keras.optimizers.Adam(lr = 1e-2, decay = 1e-5)\n",
    "\n",
    "Fine_Tune_Epochs = 600\n",
    "Fine_Tune_Early_Stop = 100\n",
    "Fine_Tune_OPTIMIZER = tensorflow.keras.optimizers.Adam(lr = 1e-4, decay = 1e-6)\n",
    "Fine_Tune_filepath = \"Best-Model-FT.h5\"\n",
    "\n",
    "Callbacks = [\n",
    "    CosineAnnealingScheduler(Epochs, 1e-3, 1e-5),\n",
    "    EarlyStopping(monitor='val_loss', patience=Early_Stop, mode='auto', min_delta=0.00001, verbose=2, restore_best_weights=True)]\n",
    "\n",
    "FT_Callbacks = [\n",
    "    ReduceLROnPlateau(monitor='val_loss', factor=0.8, patience=10, verbose=2, mode='min', min_delta=0.0001, cooldown=1, min_lr=1e-6),\n",
    "    ModelCheckpoint(Fine_Tune_filepath, monitor='val_accuracy', verbose=2, save_best_only=True, save_weights_only=False, mode='max'),\n",
    "    EarlyStopping(monitor='val_accuracy', patience=Fine_Tune_Early_Stop, mode='auto', min_delta=0.00001, verbose=2, restore_best_weights=True)]"
   ]
  },
  {
   "cell_type": "code",
   "execution_count": null,
   "id": "transparent-seeker",
   "metadata": {
    "execution": {
     "iopub.execute_input": "2021-05-01T01:42:49.251205Z",
     "iopub.status.busy": "2021-05-01T01:42:49.250167Z",
     "iopub.status.idle": "2021-05-01T01:42:50.790202Z",
     "shell.execute_reply": "2021-05-01T01:42:50.790776Z"
    },
    "papermill": {
     "duration": 1.591943,
     "end_time": "2021-05-01T01:42:50.790959",
     "exception": false,
     "start_time": "2021-05-01T01:42:49.199016",
     "status": "completed"
    },
    "tags": []
   },
   "outputs": [],
   "source": [
    "filenames = tf.io.gfile.glob(str(GCS_PATH + '/Train/*/*'))\n",
    "random.shuffle(filenames)\n",
    "\n",
    "test_filenames = tf.io.gfile.glob(str(GCS_PATH + '/Test/*/*'))\n",
    "random.shuffle(test_filenames)"
   ]
  },
  {
   "cell_type": "code",
   "execution_count": null,
   "id": "closing-sewing",
   "metadata": {
    "execution": {
     "iopub.execute_input": "2021-05-01T01:42:50.892572Z",
     "iopub.status.busy": "2021-05-01T01:42:50.891589Z",
     "iopub.status.idle": "2021-05-01T01:42:50.903399Z",
     "shell.execute_reply": "2021-05-01T01:42:50.904007Z"
    },
    "papermill": {
     "duration": 0.064123,
     "end_time": "2021-05-01T01:42:50.904196",
     "exception": false,
     "start_time": "2021-05-01T01:42:50.840073",
     "status": "completed"
    },
    "tags": []
   },
   "outputs": [],
   "source": [
    "CLASS_COUNT = {}\n",
    "for id, subfolder in enumerate(CLASSES):\n",
    "    count_label = len([filename for filename in filenames if subfolder in filename])\n",
    "    CLASS_COUNT[subfolder] = count_label\n",
    "\n",
    "print(\"High FFR sample count : \" + str(CLASS_COUNT['FFRH']))\n",
    "print(\"Low FFR Sample count : \" + str(CLASS_COUNT['FFRL']))"
   ]
  },
  {
   "cell_type": "code",
   "execution_count": null,
   "id": "advanced-chair",
   "metadata": {
    "execution": {
     "iopub.execute_input": "2021-05-01T01:42:51.023589Z",
     "iopub.status.busy": "2021-05-01T01:42:51.022153Z",
     "iopub.status.idle": "2021-05-01T01:42:51.423066Z",
     "shell.execute_reply": "2021-05-01T01:42:51.422429Z"
    },
    "papermill": {
     "duration": 0.470273,
     "end_time": "2021-05-01T01:42:51.423227",
     "exception": false,
     "start_time": "2021-05-01T01:42:50.952954",
     "status": "completed"
    },
    "tags": []
   },
   "outputs": [],
   "source": [
    "data = {'Cases':['High FFR', 'Low FFR'],\n",
    "        'Cases_count':[CLASS_COUNT['FFRH'], CLASS_COUNT['FFRH']]\n",
    "       }\n",
    "\n",
    "df = pd.DataFrame(data)\n",
    "\n",
    "sns.set(style=\"darkgrid\")\n",
    "plt.figure(figsize=(10,8))\n",
    "sns.barplot(x=df.index, y= df['Cases_count'].values)\n",
    "plt.title('Number of samples', fontsize=14)\n",
    "plt.xlabel('Case type', fontsize=12)\n",
    "plt.ylabel('Count', fontsize=12)\n",
    "plt.xticks(range(len(df.index)), ['High FFR', 'Low FFR'])\n",
    "plt.show()\n",
    "\n",
    "print(df)"
   ]
  },
  {
   "cell_type": "code",
   "execution_count": null,
   "id": "allied-premises",
   "metadata": {
    "execution": {
     "iopub.execute_input": "2021-05-01T01:42:51.637075Z",
     "iopub.status.busy": "2021-05-01T01:42:51.636386Z",
     "iopub.status.idle": "2021-05-01T01:42:51.661322Z",
     "shell.execute_reply": "2021-05-01T01:42:51.660636Z"
    },
    "papermill": {
     "duration": 0.078603,
     "end_time": "2021-05-01T01:42:51.661473",
     "exception": false,
     "start_time": "2021-05-01T01:42:51.582870",
     "status": "completed"
    },
    "tags": []
   },
   "outputs": [],
   "source": [
    "train_list_ds = tf.data.Dataset.from_tensor_slices(filenames)\n",
    "test_list_ds = tf.data.Dataset.from_tensor_slices(test_filenames)"
   ]
  },
  {
   "cell_type": "code",
   "execution_count": null,
   "id": "desperate-lancaster",
   "metadata": {
    "execution": {
     "iopub.execute_input": "2021-05-01T01:42:51.768109Z",
     "iopub.status.busy": "2021-05-01T01:42:51.767279Z",
     "iopub.status.idle": "2021-05-01T01:42:51.779834Z",
     "shell.execute_reply": "2021-05-01T01:42:51.780383Z"
    },
    "papermill": {
     "duration": 0.069601,
     "end_time": "2021-05-01T01:42:51.780574",
     "exception": false,
     "start_time": "2021-05-01T01:42:51.710973",
     "status": "completed"
    },
    "tags": []
   },
   "outputs": [],
   "source": [
    "TRAIN_IMG_COUNT = tf.data.experimental.cardinality(train_list_ds).numpy()\n",
    "print(\"Training images count: \" + str(TRAIN_IMG_COUNT))\n",
    "\n",
    "Test_IMG_COUNT = tf.data.experimental.cardinality(test_list_ds).numpy()\n",
    "print(\"Testing images count: \" + str(Test_IMG_COUNT))"
   ]
  },
  {
   "cell_type": "code",
   "execution_count": null,
   "id": "metropolitan-brazil",
   "metadata": {
    "execution": {
     "iopub.execute_input": "2021-05-01T01:42:51.888536Z",
     "iopub.status.busy": "2021-05-01T01:42:51.887500Z",
     "iopub.status.idle": "2021-05-01T01:42:51.891156Z",
     "shell.execute_reply": "2021-05-01T01:42:51.890498Z"
    },
    "papermill": {
     "duration": 0.060076,
     "end_time": "2021-05-01T01:42:51.891304",
     "exception": false,
     "start_time": "2021-05-01T01:42:51.831228",
     "status": "completed"
    },
    "tags": []
   },
   "outputs": [],
   "source": [
    "def get_label(file_path):\n",
    "    parts = tf.strings.split(file_path, os.path.sep)\n",
    "    return int(parts[-2] == CLASSES)"
   ]
  },
  {
   "cell_type": "code",
   "execution_count": null,
   "id": "declared-singapore",
   "metadata": {
    "execution": {
     "iopub.execute_input": "2021-05-01T01:42:51.999111Z",
     "iopub.status.busy": "2021-05-01T01:42:51.998012Z",
     "iopub.status.idle": "2021-05-01T01:42:52.001715Z",
     "shell.execute_reply": "2021-05-01T01:42:52.001015Z"
    },
    "papermill": {
     "duration": 0.059289,
     "end_time": "2021-05-01T01:42:52.001865",
     "exception": false,
     "start_time": "2021-05-01T01:42:51.942576",
     "status": "completed"
    },
    "tags": []
   },
   "outputs": [],
   "source": [
    "def decode_img(img):\n",
    "    img = tf.image.decode_png(img, channels=3)\n",
    "    img = tfa.image.equalize(img)\n",
    "    img = tf.image.convert_image_dtype(img, tf.float32)\n",
    "    return tf.image.resize(img, IMAGE_SIZE)"
   ]
  },
  {
   "cell_type": "code",
   "execution_count": null,
   "id": "frequent-terror",
   "metadata": {
    "execution": {
     "iopub.execute_input": "2021-05-01T01:42:52.107928Z",
     "iopub.status.busy": "2021-05-01T01:42:52.106855Z",
     "iopub.status.idle": "2021-05-01T01:42:52.110809Z",
     "shell.execute_reply": "2021-05-01T01:42:52.110232Z"
    },
    "papermill": {
     "duration": 0.058474,
     "end_time": "2021-05-01T01:42:52.110952",
     "exception": false,
     "start_time": "2021-05-01T01:42:52.052478",
     "status": "completed"
    },
    "tags": []
   },
   "outputs": [],
   "source": [
    "def process_path(file_path):\n",
    "    label = get_label(file_path)\n",
    "    img = tf.io.read_file(file_path)\n",
    "    img = decode_img(img)\n",
    "    return img, label"
   ]
  },
  {
   "cell_type": "code",
   "execution_count": null,
   "id": "sorted-sixth",
   "metadata": {
    "execution": {
     "iopub.execute_input": "2021-05-01T01:42:52.240470Z",
     "iopub.status.busy": "2021-05-01T01:42:52.220493Z",
     "iopub.status.idle": "2021-05-01T01:42:52.528786Z",
     "shell.execute_reply": "2021-05-01T01:42:52.528065Z"
    },
    "papermill": {
     "duration": 0.366163,
     "end_time": "2021-05-01T01:42:52.528934",
     "exception": false,
     "start_time": "2021-05-01T01:42:52.162771",
     "status": "completed"
    },
    "tags": []
   },
   "outputs": [],
   "source": [
    "train_ds = train_list_ds.map(process_path, num_parallel_calls=AUTOTUNE)\n",
    "test_ds = test_list_ds.map(process_path, num_parallel_calls=AUTOTUNE)"
   ]
  },
  {
   "cell_type": "code",
   "execution_count": null,
   "id": "abandoned-somalia",
   "metadata": {
    "execution": {
     "iopub.execute_input": "2021-05-01T01:42:52.635377Z",
     "iopub.status.busy": "2021-05-01T01:42:52.634563Z",
     "iopub.status.idle": "2021-05-01T01:42:52.637618Z",
     "shell.execute_reply": "2021-05-01T01:42:52.638134Z"
    },
    "papermill": {
     "duration": 0.059793,
     "end_time": "2021-05-01T01:42:52.638319",
     "exception": false,
     "start_time": "2021-05-01T01:42:52.578526",
     "status": "completed"
    },
    "tags": []
   },
   "outputs": [],
   "source": [
    "def prepare_for_training(ds, cache=True):\n",
    "    if cache:\n",
    "        if isinstance(cache, str):\n",
    "            ds = ds.cache(cache)\n",
    "        else:\n",
    "            ds = ds.cache()\n",
    "\n",
    "    ds = ds.shuffle(buffer_size=1000)\n",
    "    ds = ds.batch(BATCH_SIZE)\n",
    "\n",
    "    if cache:\n",
    "        ds = ds.prefetch(buffer_size=AUTOTUNE)\n",
    "\n",
    "    return ds"
   ]
  },
  {
   "cell_type": "code",
   "execution_count": null,
   "id": "ceramic-collar",
   "metadata": {
    "execution": {
     "iopub.execute_input": "2021-05-01T01:42:52.744525Z",
     "iopub.status.busy": "2021-05-01T01:42:52.743469Z",
     "iopub.status.idle": "2021-05-01T01:42:52.760785Z",
     "shell.execute_reply": "2021-05-01T01:42:52.761352Z"
    },
    "papermill": {
     "duration": 0.073558,
     "end_time": "2021-05-01T01:42:52.761533",
     "exception": false,
     "start_time": "2021-05-01T01:42:52.687975",
     "status": "completed"
    },
    "tags": []
   },
   "outputs": [],
   "source": [
    "train_ds = prepare_for_training(train_ds)\n",
    "test_ds = prepare_for_training(test_ds, False)"
   ]
  },
  {
   "cell_type": "code",
   "execution_count": null,
   "id": "scenic-fight",
   "metadata": {
    "execution": {
     "iopub.execute_input": "2021-05-01T01:42:53.086804Z",
     "iopub.status.busy": "2021-05-01T01:42:53.085567Z",
     "iopub.status.idle": "2021-05-01T01:42:53.110260Z",
     "shell.execute_reply": "2021-05-01T01:42:53.109516Z"
    },
    "papermill": {
     "duration": 0.080671,
     "end_time": "2021-05-01T01:42:53.110410",
     "exception": false,
     "start_time": "2021-05-01T01:42:53.029739",
     "status": "completed"
    },
    "tags": []
   },
   "outputs": [],
   "source": [
    "# tf.config.set_soft_device_placement(True)\n",
    "img_augmentation = Sequential([\n",
    "    preprocessing.RandomRotation(factor=0.3, fill_mode='nearest'),\n",
    "    preprocessing.RandomTranslation(height_factor=0.15, width_factor=0.15, fill_mode='reflect'),\n",
    "    preprocessing.RandomZoom(0.15),\n",
    "    preprocessing.RandomContrast(factor=0.15)\n",
    "    ],name=\"Augmentation\")\n",
    "\n",
    "train_ds = train_ds.map(lambda x, y: (img_augmentation(x, training=True), y), num_parallel_calls=AUTOTUNE)"
   ]
  },
  {
   "cell_type": "code",
   "execution_count": null,
   "id": "guided-feeling",
   "metadata": {
    "execution": {
     "iopub.execute_input": "2021-05-01T01:42:53.220411Z",
     "iopub.status.busy": "2021-05-01T01:42:53.219165Z",
     "iopub.status.idle": "2021-05-01T01:42:53.222174Z",
     "shell.execute_reply": "2021-05-01T01:42:53.222778Z"
    },
    "papermill": {
     "duration": 0.062031,
     "end_time": "2021-05-01T01:42:53.222966",
     "exception": false,
     "start_time": "2021-05-01T01:42:53.160935",
     "status": "completed"
    },
    "tags": []
   },
   "outputs": [],
   "source": [
    "def show_batch(image_batch, label_batch):\n",
    "    plt.figure(figsize=(10,10))\n",
    "    for n in range(15):\n",
    "        ax = plt.subplot(5,5,n+1)\n",
    "        plt.imshow(image_batch[n])\n",
    "        plt.title(CLASSES[np.argmax(label_batch[n])])\n",
    "        plt.axis(\"off\")"
   ]
  },
  {
   "cell_type": "code",
   "execution_count": null,
   "id": "italian-figure",
   "metadata": {
    "execution": {
     "iopub.execute_input": "2021-05-01T01:42:53.331422Z",
     "iopub.status.busy": "2021-05-01T01:42:53.329896Z",
     "iopub.status.idle": "2021-05-01T01:44:06.731462Z",
     "shell.execute_reply": "2021-05-01T01:44:06.731998Z"
    },
    "papermill": {
     "duration": 73.457577,
     "end_time": "2021-05-01T01:44:06.732196",
     "exception": false,
     "start_time": "2021-05-01T01:42:53.274619",
     "status": "completed"
    },
    "tags": []
   },
   "outputs": [],
   "source": [
    "image_batch, label_batch = next(iter(train_ds))\n",
    "show_batch(image_batch.numpy(), label_batch.numpy())"
   ]
  },
  {
   "cell_type": "code",
   "execution_count": null,
   "id": "gross-ground",
   "metadata": {
    "execution": {
     "iopub.execute_input": "2021-05-01T01:44:06.858186Z",
     "iopub.status.busy": "2021-05-01T01:44:06.856964Z",
     "iopub.status.idle": "2021-05-01T01:44:28.420177Z",
     "shell.execute_reply": "2021-05-01T01:44:28.420841Z"
    },
    "papermill": {
     "duration": 21.62941,
     "end_time": "2021-05-01T01:44:28.421029",
     "exception": false,
     "start_time": "2021-05-01T01:44:06.791619",
     "status": "completed"
    },
    "tags": []
   },
   "outputs": [],
   "source": [
    "for image, label in test_ds.take(1):\n",
    "    print(label[0])"
   ]
  },
  {
   "cell_type": "code",
   "execution_count": null,
   "id": "liquid-tanzania",
   "metadata": {
    "execution": {
     "iopub.execute_input": "2021-05-01T01:44:28.804886Z",
     "iopub.status.busy": "2021-05-01T01:44:28.804022Z",
     "iopub.status.idle": "2021-05-01T01:44:28.807298Z",
     "shell.execute_reply": "2021-05-01T01:44:28.806699Z"
    },
    "papermill": {
     "duration": 0.070322,
     "end_time": "2021-05-01T01:44:28.807443",
     "exception": false,
     "start_time": "2021-05-01T01:44:28.737121",
     "status": "completed"
    },
    "tags": []
   },
   "outputs": [],
   "source": [
    "class_weight = {C: ((1/N)*len(filenames)/2.0) for C,N in enumerate(list(CLASS_COUNT.values()))}\n",
    "print(class_weight)"
   ]
  },
  {
   "cell_type": "code",
   "execution_count": null,
   "id": "voluntary-flavor",
   "metadata": {
    "execution": {
     "iopub.execute_input": "2021-05-01T01:44:29.071755Z",
     "iopub.status.busy": "2021-05-01T01:44:29.070981Z",
     "iopub.status.idle": "2021-05-01T01:44:29.074072Z",
     "shell.execute_reply": "2021-05-01T01:44:29.073508Z"
    },
    "papermill": {
     "duration": 0.076824,
     "end_time": "2021-05-01T01:44:29.074212",
     "exception": false,
     "start_time": "2021-05-01T01:44:28.997388",
     "status": "completed"
    },
    "tags": []
   },
   "outputs": [],
   "source": [
    "def build_model(OPTIMIZER, LOSS, METRICS):\n",
    "    model = None\n",
    "    baseModel = NETWORK(include_top=False, input_tensor=Input(shape=input_shape), weights=\"imagenet\", pooling ='avg')\n",
    "\n",
    "    baseModel.trainable = False\n",
    "\n",
    "    x = BatchNormalization(axis = -1, name=\"Batch-Normalization-1\")(baseModel.output)\n",
    "\n",
    "    x = Dense(512, activation='relu', kernel_regularizer=regularizers.L1L2(l1=1e-5, l2=1e-4))(x)\n",
    "    x = BatchNormalization(axis = -1, name=\"Batch-Normalization-3\")(x)\n",
    "    x = Dropout(.2, name=\"Dropout-2\")(x)\n",
    "\n",
    "    x = Dense(256, activation='relu')(x)\n",
    "    x = BatchNormalization(axis = -1, name=\"Batch-Normalization-4\")(x)\n",
    "    \n",
    "    outputs = Dense(NUM_CLASSES, activation=\"softmax\", name=\"Classifier\")(x)\n",
    "    model = tf.keras.Model(inputs=baseModel.input, outputs=outputs, name=\"LAD-FFR-Classifier\")\n",
    "    \n",
    "    model.compile(optimizer = OPTIMIZER, loss = LOSS, metrics = METRICS)\n",
    "        \n",
    "    return model"
   ]
  },
  {
   "cell_type": "code",
   "execution_count": null,
   "id": "short-investing",
   "metadata": {
    "execution": {
     "iopub.execute_input": "2021-05-01T01:44:29.209052Z",
     "iopub.status.busy": "2021-05-01T01:44:29.207986Z",
     "iopub.status.idle": "2021-05-01T01:45:09.653109Z",
     "shell.execute_reply": "2021-05-01T01:45:09.652437Z"
    },
    "papermill": {
     "duration": 40.516556,
     "end_time": "2021-05-01T01:45:09.653262",
     "exception": false,
     "start_time": "2021-05-01T01:44:29.136706",
     "status": "completed"
    },
    "tags": []
   },
   "outputs": [],
   "source": [
    "with strategy.scope():\n",
    "    model = build_model(OPTIMIZER, LOSS, METRICS)"
   ]
  },
  {
   "cell_type": "code",
   "execution_count": null,
   "id": "forward-corps",
   "metadata": {
    "execution": {
     "iopub.execute_input": "2021-05-01T01:45:09.958729Z",
     "iopub.status.busy": "2021-05-01T01:45:09.957555Z",
     "iopub.status.idle": "2021-05-01T01:59:32.396781Z",
     "shell.execute_reply": "2021-05-01T01:59:32.397464Z"
    },
    "papermill": {
     "duration": 862.52523,
     "end_time": "2021-05-01T01:59:32.397730",
     "exception": false,
     "start_time": "2021-05-01T01:45:09.872500",
     "status": "completed"
    },
    "tags": []
   },
   "outputs": [],
   "source": [
    "def fit_model(Epochs, Callbacks, class_weight=None):\n",
    "    history = model.fit(\n",
    "        train_ds,\n",
    "        validation_split=0.2,\n",
    "        epochs=Epochs,\n",
    "        callbacks=Callbacks,\n",
    "        verbose=2,\n",
    "        class_weight=class_weight\n",
    "    )\n",
    "    return history\n",
    "    \n",
    "history = fit_model(Epochs, Callbacks, class_weight=class_weight)"
   ]
  },
  {
   "cell_type": "code",
   "execution_count": null,
   "id": "plastic-istanbul",
   "metadata": {
    "execution": {
     "iopub.execute_input": "2021-05-01T01:59:32.917857Z",
     "iopub.status.busy": "2021-05-01T01:59:32.907658Z",
     "iopub.status.idle": "2021-05-01T01:59:33.534889Z",
     "shell.execute_reply": "2021-05-01T01:59:33.534107Z"
    },
    "papermill": {
     "duration": 0.892998,
     "end_time": "2021-05-01T01:59:33.535054",
     "exception": false,
     "start_time": "2021-05-01T01:59:32.642056",
     "status": "completed"
    },
    "tags": []
   },
   "outputs": [],
   "source": [
    "def Plot_Learning_Curves():\n",
    "    acc = history.history['accuracy']\n",
    "    val_acc = history.history['val_accuracy']\n",
    "    \n",
    "    loss = history.history['loss']\n",
    "    val_loss = history.history['val_loss']\n",
    "    \n",
    "    sns.set(style=\"dark\")\n",
    "    plt.rcParams['figure.figsize'] = (14, 5)\n",
    "\n",
    "    plt.subplot(1,2,1)\n",
    "    plt.plot(loss, label='Training loss')\n",
    "    plt.plot(val_loss, linestyle=\"--\", label='Validation loss')\n",
    "    plt.title('Training and validation loss')\n",
    "    plt.ylabel('Loss') \n",
    "    plt.xlabel('Epoch')\n",
    "    plt.legend()\n",
    "\n",
    "    plt.subplot(1,2,2)\n",
    "    plt.plot(acc, label='Training Accuracy')\n",
    "    plt.plot(val_acc, linestyle=\"--\", label='Validation Accuracy')\n",
    "    plt.title('Training and validation accuracy')\n",
    "    plt.ylabel('Accuracy') \n",
    "    plt.xlabel('Epoch')\n",
    "    plt.legend()\n",
    "\n",
    "    plt.show()\n",
    "    \n",
    "Plot_Learning_Curves()"
   ]
  },
  {
   "cell_type": "code",
   "execution_count": null,
   "id": "generic-genre",
   "metadata": {
    "execution": {
     "iopub.execute_input": "2021-05-01T01:59:34.074593Z",
     "iopub.status.busy": "2021-05-01T01:59:34.073928Z",
     "iopub.status.idle": "2021-05-01T02:00:08.710375Z",
     "shell.execute_reply": "2021-05-01T02:00:08.706929Z"
    },
    "papermill": {
     "duration": 34.90997,
     "end_time": "2021-05-01T02:00:08.710743",
     "exception": false,
     "start_time": "2021-05-01T01:59:33.800773",
     "status": "completed"
    },
    "tags": []
   },
   "outputs": [],
   "source": [
    "results = model.evaluate(test_ds, return_dict=True)\n",
    "print ('\\nModel Evaluation:')\n",
    "print(results['accuracy']*100)"
   ]
  },
  {
   "cell_type": "code",
   "execution_count": null,
   "id": "acceptable-kazakhstan",
   "metadata": {
    "execution": {
     "iopub.execute_input": "2021-05-01T02:00:09.216446Z",
     "iopub.status.busy": "2021-05-01T02:00:09.215205Z",
     "iopub.status.idle": "2021-05-01T02:00:09.219273Z",
     "shell.execute_reply": "2021-05-01T02:00:09.218512Z"
    },
    "papermill": {
     "duration": 0.260514,
     "end_time": "2021-05-01T02:00:09.219434",
     "exception": false,
     "start_time": "2021-05-01T02:00:08.958920",
     "status": "completed"
    },
    "tags": []
   },
   "outputs": [],
   "source": [
    "def fine_tune(OPTIMIZER, LOSS, METRICS):\n",
    "\n",
    "    for layer in model.layers[8:]:\n",
    "        if not 'block1' in layer.name:\n",
    "            if not isinstance(layer, BatchNormalization):\n",
    "                layer.trainable = True  \n",
    "            \n",
    "    model.compile(optimizer = Fine_Tune_OPTIMIZER, loss = LOSS, metrics = METRICS)\n",
    "    return model"
   ]
  },
  {
   "cell_type": "code",
   "execution_count": null,
   "id": "cognitive-interference",
   "metadata": {
    "execution": {
     "iopub.execute_input": "2021-05-01T02:00:09.732580Z",
     "iopub.status.busy": "2021-05-01T02:00:09.727283Z",
     "iopub.status.idle": "2021-05-01T02:00:51.505174Z",
     "shell.execute_reply": "2021-05-01T02:00:51.504271Z"
    },
    "papermill": {
     "duration": 42.03456,
     "end_time": "2021-05-01T02:00:51.505341",
     "exception": false,
     "start_time": "2021-05-01T02:00:09.470781",
     "status": "completed"
    },
    "tags": []
   },
   "outputs": [],
   "source": [
    "with strategy.scope():\n",
    "    model = fine_tune(Fine_Tune_OPTIMIZER, LOSS, METRICS)"
   ]
  },
  {
   "cell_type": "code",
   "execution_count": null,
   "id": "adapted-preservation",
   "metadata": {
    "execution": {
     "iopub.execute_input": "2021-05-01T02:00:52.018065Z",
     "iopub.status.busy": "2021-05-01T02:00:52.017308Z",
     "iopub.status.idle": "2021-05-01T02:13:36.689267Z",
     "shell.execute_reply": "2021-05-01T02:13:36.689850Z"
    },
    "papermill": {
     "duration": 764.934061,
     "end_time": "2021-05-01T02:13:36.690054",
     "exception": false,
     "start_time": "2021-05-01T02:00:51.755993",
     "status": "completed"
    },
    "tags": []
   },
   "outputs": [],
   "source": [
    "history = fit_model(Fine_Tune_Epochs, FT_Callbacks, class_weight=class_weight)"
   ]
  },
  {
   "cell_type": "code",
   "execution_count": null,
   "id": "reported-truck",
   "metadata": {
    "execution": {
     "iopub.execute_input": "2021-05-01T02:13:37.510151Z",
     "iopub.status.busy": "2021-05-01T02:13:37.508642Z",
     "iopub.status.idle": "2021-05-01T02:13:37.995978Z",
     "shell.execute_reply": "2021-05-01T02:13:37.996676Z"
    },
    "papermill": {
     "duration": 0.90381,
     "end_time": "2021-05-01T02:13:37.996859",
     "exception": false,
     "start_time": "2021-05-01T02:13:37.093049",
     "status": "completed"
    },
    "tags": []
   },
   "outputs": [],
   "source": [
    "Plot_Learning_Curves()"
   ]
  },
  {
   "cell_type": "code",
   "execution_count": null,
   "id": "simplified-fruit",
   "metadata": {
    "execution": {
     "iopub.execute_input": "2021-05-01T02:13:38.804160Z",
     "iopub.status.busy": "2021-05-01T02:13:38.803407Z",
     "iopub.status.idle": "2021-05-01T02:14:18.346620Z",
     "shell.execute_reply": "2021-05-01T02:14:18.345026Z"
    },
    "papermill": {
     "duration": 39.946165,
     "end_time": "2021-05-01T02:14:18.346800",
     "exception": false,
     "start_time": "2021-05-01T02:13:38.400635",
     "status": "completed"
    },
    "tags": []
   },
   "outputs": [],
   "source": [
    "model = None\n",
    "model = load_model(Fine_Tune_filepath)\n",
    "results = model.evaluate(test_ds, return_dict=True)\n",
    "print ('\\nModel Evaluation:')\n",
    "print(results['accuracy']*100)"
   ]
  },
  {
   "cell_type": "code",
   "execution_count": null,
   "id": "large-official",
   "metadata": {
    "execution": {
     "iopub.execute_input": "2021-05-01T02:14:19.157730Z",
     "iopub.status.busy": "2021-05-01T02:14:19.156652Z",
     "iopub.status.idle": "2021-05-01T02:14:19.159717Z",
     "shell.execute_reply": "2021-05-01T02:14:19.159069Z"
    },
    "papermill": {
     "duration": 0.413959,
     "end_time": "2021-05-01T02:14:19.159860",
     "exception": false,
     "start_time": "2021-05-01T02:14:18.745901",
     "status": "completed"
    },
    "tags": []
   },
   "outputs": [],
   "source": [
    "def dataset_to_numpy_util(dataset, N):\n",
    "    dataset = dataset.unbatch().batch(N)\n",
    "    for images, labels in dataset:\n",
    "        numpy_images = images.numpy()\n",
    "        numpy_labels = labels.numpy()\n",
    "        break\n",
    "    return numpy_images, numpy_labels"
   ]
  },
  {
   "cell_type": "code",
   "execution_count": null,
   "id": "weird-brass",
   "metadata": {
    "execution": {
     "iopub.execute_input": "2021-05-01T02:14:19.972124Z",
     "iopub.status.busy": "2021-05-01T02:14:19.970480Z",
     "iopub.status.idle": "2021-05-01T02:14:36.703846Z",
     "shell.execute_reply": "2021-05-01T02:14:36.704370Z"
    },
    "papermill": {
     "duration": 17.146082,
     "end_time": "2021-05-01T02:14:36.704556",
     "exception": false,
     "start_time": "2021-05-01T02:14:19.558474",
     "status": "completed"
    },
    "tags": []
   },
   "outputs": [],
   "source": [
    "x_test, y_test = dataset_to_numpy_util(test_ds, Test_IMG_COUNT)\n",
    "\n",
    "print(\"Evaluation Dataset:\")\n",
    "print('X shape: ', x_test.shape,' Y shape: ', y_test.shape)"
   ]
  },
  {
   "cell_type": "code",
   "execution_count": null,
   "id": "constant-wallpaper",
   "metadata": {
    "execution": {
     "iopub.execute_input": "2021-05-01T02:14:38.341861Z",
     "iopub.status.busy": "2021-05-01T02:14:38.340737Z",
     "iopub.status.idle": "2021-05-01T02:15:05.649726Z",
     "shell.execute_reply": "2021-05-01T02:15:05.650258Z"
    },
    "papermill": {
     "duration": 27.726009,
     "end_time": "2021-05-01T02:15:05.650443",
     "exception": false,
     "start_time": "2021-05-01T02:14:37.924434",
     "status": "completed"
    },
    "tags": []
   },
   "outputs": [],
   "source": [
    "preds = model.predict(x_test)\n",
    "print('Shape of preds: ', preds.shape)\n",
    "\n",
    "plt.figure(figsize = (12, 12))\n",
    "\n",
    "R = np.random.choice(preds.shape[0])\n",
    "\n",
    "for i in range(25):\n",
    "    plt.subplot(5, 5, i + 1)\n",
    "    plt.grid(False)\n",
    "    plt.xticks([])\n",
    "    plt.yticks([])\n",
    "    R = np.random.choice(preds.shape[0])\n",
    "    pred = np.argmax(preds[R])\n",
    "    actual = np.argmax(y_test[R])\n",
    "    col = 'g'\n",
    "    if pred != actual:\n",
    "        col = 'r'\n",
    "    plt.xlabel('I={} | P={} | L={}'.format(R, pred, actual), color = col)\n",
    "    plt.imshow(((x_test[R]* 255).astype(np.uint8)), cmap='binary')\n",
    "plt.show()"
   ]
  },
  {
   "cell_type": "code",
   "execution_count": null,
   "id": "eleven-cartoon",
   "metadata": {
    "execution": {
     "iopub.execute_input": "2021-05-01T02:15:09.215706Z",
     "iopub.status.busy": "2021-05-01T02:15:09.214549Z",
     "iopub.status.idle": "2021-05-01T02:15:09.388409Z",
     "shell.execute_reply": "2021-05-01T02:15:09.388936Z"
    },
    "papermill": {
     "duration": 0.64771,
     "end_time": "2021-05-01T02:15:09.389130",
     "exception": false,
     "start_time": "2021-05-01T02:15:08.741420",
     "status": "completed"
    },
    "tags": []
   },
   "outputs": [],
   "source": [
    "index = 0\n",
    "plt.rcParams['figure.figsize'] = (6, 4)\n",
    "plt.plot(preds[index])\n",
    "sns.set(style=\"darkgrid\")\n",
    "plt.show()"
   ]
  },
  {
   "cell_type": "code",
   "execution_count": null,
   "id": "golden-friday",
   "metadata": {
    "execution": {
     "iopub.execute_input": "2021-05-01T02:15:10.291319Z",
     "iopub.status.busy": "2021-05-01T02:15:10.290418Z",
     "iopub.status.idle": "2021-05-01T02:15:10.316506Z",
     "shell.execute_reply": "2021-05-01T02:15:10.315833Z"
    },
    "papermill": {
     "duration": 0.48164,
     "end_time": "2021-05-01T02:15:10.316697",
     "exception": false,
     "start_time": "2021-05-01T02:15:09.835057",
     "status": "completed"
    },
    "tags": []
   },
   "outputs": [],
   "source": [
    "preds = np.round(preds,0)\n",
    "class_metrics = metrics.classification_report(y_test, preds, target_names = CLASSES, zero_division = 0)\n",
    "print (class_metrics)"
   ]
  },
  {
   "cell_type": "code",
   "execution_count": null,
   "id": "noble-liberia",
   "metadata": {
    "execution": {
     "iopub.execute_input": "2021-05-01T02:15:11.239982Z",
     "iopub.status.busy": "2021-05-01T02:15:11.239175Z",
     "iopub.status.idle": "2021-05-01T02:15:12.020601Z",
     "shell.execute_reply": "2021-05-01T02:15:12.019843Z"
    },
    "papermill": {
     "duration": 1.253235,
     "end_time": "2021-05-01T02:15:12.020763",
     "exception": false,
     "start_time": "2021-05-01T02:15:10.767528",
     "status": "completed"
    },
    "tags": []
   },
   "outputs": [],
   "source": [
    "matrix = metrics.confusion_matrix(y_test.argmax(axis=1), preds.argmax(axis=1))\n",
    "\n",
    "def plot_confusion_matrix(cm,\n",
    "                          target_names,\n",
    "                          title='Confusion matrix',\n",
    "                          cmap=None,\n",
    "                          normalize=True):\n",
    "\n",
    "    accuracy = np.trace(cm) / float(np.sum(cm))\n",
    "    misclass = 1 - accuracy\n",
    "    sns.set(style=\"dark\")\n",
    "    if cmap is None:\n",
    "        cmap = plt.get_cmap('Blues')\n",
    "\n",
    "    plt.figure(figsize=(8, 6))\n",
    "    plt.imshow(cm, interpolation='nearest', cmap=cmap)\n",
    "    plt.title(title)\n",
    "    plt.colorbar()\n",
    "\n",
    "    if target_names is not None:\n",
    "        tick_marks = np.arange(len(target_names))\n",
    "        plt.xticks(tick_marks, target_names, rotation=45)\n",
    "        plt.yticks(tick_marks, target_names)\n",
    "\n",
    "    if normalize:\n",
    "        cm = cm.astype('float') / cm.sum(axis=1)[:, np.newaxis]\n",
    "\n",
    "\n",
    "    thresh = cm.max() / 1.5 if normalize else cm.max() / 2\n",
    "    for i, j in itertools.product(range(cm.shape[0]), range(cm.shape[1])):\n",
    "        if normalize:\n",
    "            plt.text(j, i, \"{:0.4f}\".format(cm[i, j]),\n",
    "                     horizontalalignment=\"center\",\n",
    "                     color=\"white\" if cm[i, j] > thresh else \"black\")\n",
    "        else:\n",
    "            plt.text(j, i, \"{:,}\".format(cm[i, j]),\n",
    "                     horizontalalignment=\"center\",\n",
    "                     color=\"white\" if cm[i, j] > thresh else \"black\")\n",
    "\n",
    "\n",
    "    plt.tight_layout()\n",
    "    plt.ylabel('True label')\n",
    "    plt.xlabel('Predicted label\\n Accuracy={:0.4f}; Misclass={:0.4f}'.format(accuracy, misclass))\n",
    "    plt.show()\n",
    "    \n",
    "plot_confusion_matrix(cm           = np.array(matrix), \n",
    "                      normalize    = False,\n",
    "                      target_names = CLASSES,\n",
    "                      title        = \"Confusion Matrix\")\n",
    "\n",
    "plot_confusion_matrix(cm           = np.array(matrix), \n",
    "                      normalize    = True,\n",
    "                      target_names = CLASSES,\n",
    "                      title        = \"Normalized Confusion Matrix\")"
   ]
  },
  {
   "cell_type": "code",
   "execution_count": null,
   "metadata": {},
   "outputs": [],
   "source": [
    "accuracy = metrics.accuracy_score(y_test.argmax(axis=1), preds.argmax(axis=1))\n",
    "print(\"Accuracy: \", accuracy)\n",
    "\n",
    "accurate_predictions = metrics.accuracy_score(y_test.argmax(axis=1), preds.argmax(axis=1), normalize=False)\n",
    "print(\"The number of accurate predictions is: \", accurate_predictions)\n",
    "\n",
    "model_auc = metrics.roc_auc_score(y_test.argmax(axis=1), preds.argmax(axis=1))\n",
    "print('AUC:', model_auc)"
   ]
  },
  {
   "cell_type": "code",
   "execution_count": null,
   "metadata": {},
   "outputs": [],
   "source": [
    "def plot_roc_curve(true_y, y_prob):\n",
    "\n",
    "    fpr, tpr, thresholds = metrics.roc_curve(true_y, y_prob)\n",
    "    model_auc = metrics.auc(fpr, tpr)\n",
    "    \n",
    "    plt.figure(1)\n",
    "    plt.plot([0, 1], 'k--')\n",
    "    plt.plot(fpr, tpr, label=f'AUC = {model_auc}')\n",
    "    plt.xlabel('False Positive Rate')\n",
    "    plt.ylabel('True Positive Rate')\n",
    "    plt.title('ROC curve')\n",
    "    plt.legend(loc='best')\n",
    "\n",
    "    plt.figure(2)\n",
    "    plt.xlim(0, 0.2)\n",
    "    plt.ylim(0.8, 1)\n",
    "    plt.plot([0, 1], 'k--')\n",
    "    plt.plot(fpr, tpr, label=f'AUC = {model_auc}')\n",
    "    plt.xlabel('False positive rate')\n",
    "    plt.ylabel('True positive rate')\n",
    "    plt.title('ROC curve (zoomed in at top left)')\n",
    "    plt.legend(loc='best')\n",
    "\n",
    "plot_roc_curve(y_test.argmax(axis=1), preds.argmax(axis=1))"
   ]
  },
  {
   "cell_type": "code",
   "execution_count": null,
   "id": "executive-athens",
   "metadata": {
    "execution": {
     "iopub.execute_input": "2021-05-01T02:15:12.974403Z",
     "iopub.status.busy": "2021-05-01T02:15:12.973418Z",
     "iopub.status.idle": "2021-05-01T02:15:13.456148Z",
     "shell.execute_reply": "2021-05-01T02:15:13.456779Z"
    },
    "papermill": {
     "duration": 0.944783,
     "end_time": "2021-05-01T02:15:13.456964",
     "exception": false,
     "start_time": "2021-05-01T02:15:12.512181",
     "status": "completed"
    },
    "tags": []
   },
   "outputs": [],
   "source": [
    "test_image = x_test[0]\n",
    "x = np.expand_dims(test_image, axis=0)\n",
    "x = x/255\n",
    "images = np.vstack([x])\n",
    "\n",
    "classes = model.predict(images, batch_size=BATCH_SIZE)\n",
    "classes = np.argmax(classes,axis=1)\n",
    "\n",
    "print ('Class:', CLASSES[int(classes)] )"
   ]
  },
  {
   "cell_type": "code",
   "execution_count": null,
   "id": "periodic-helmet",
   "metadata": {
    "execution": {
     "iopub.execute_input": "2021-05-01T02:15:25.962768Z",
     "iopub.status.busy": "2021-05-01T02:15:25.962023Z",
     "iopub.status.idle": "2021-05-01T02:15:25.972357Z",
     "shell.execute_reply": "2021-05-01T02:15:25.971730Z"
    },
    "papermill": {
     "duration": 0.485794,
     "end_time": "2021-05-01T02:15:25.972516",
     "exception": false,
     "start_time": "2021-05-01T02:15:25.486722",
     "status": "completed"
    },
    "tags": []
   },
   "outputs": [],
   "source": [
    "! pip -q install tf-keras-vis\n",
    "\n",
    "from tf_keras_vis.gradcam import Gradcam\n",
    "from tf_keras_vis.gradcam import GradcamPlusPlus\n",
    "from tf_keras_vis.scorecam import ScoreCAM\n",
    "from tf_keras_vis.utils import normalize\n",
    "\n",
    "os.mkdir('Maps')\n",
    "\n",
    "def attention_map(map_kind, test_img, img_no, show_only=False):\n",
    "    image_titles = ['Attention Map']\n",
    "\n",
    "    test_image = test_img\n",
    "    x = np.expand_dims(test_image, axis=0)\n",
    "    x = x/255\n",
    "    images = np.vstack([x])\n",
    "    X = images[0]\n",
    "\n",
    "    subplot_args = { 'nrows': 1, 'ncols': 1, 'figsize': (6, 6),'subplot_kw': {'xticks': [], 'yticks': []} }\n",
    "\n",
    "    y_pred = model.predict(X[np.newaxis,...])\n",
    "    class_idxs_sorted = np.argsort(y_pred.flatten())[::-1]\n",
    "    \n",
    "    def score(class_idxs_sorted):\n",
    "        return (class_idxs_sorted[0][0])\n",
    "    \n",
    "    def model_modifier(cloned_model):\n",
    "        cloned_model.layers[-1].activation = tf.keras.activations.linear\n",
    "        return cloned_model\n",
    "\n",
    "    if map_kind == 'Gradcam':\n",
    "        gradcam = Gradcam(model, model_modifier=model_modifier, clone=False)\n",
    "        cam = gradcam(score, X, penultimate_layer=-1)\n",
    "\n",
    "    elif map_kind == 'GradcamPlusPlus':\n",
    "        gradcamplusplus = GradcamPlusPlus(model, model_modifier=model_modifier, clone=False)\n",
    "        cam = gradcamplusplus(score, X, penultimate_layer=-1)\n",
    "\n",
    "    else:\n",
    "        scorecam = ScoreCAM(model)\n",
    "        cam = scorecam(score, X, penultimate_layer=-1, max_N=10)\n",
    "\n",
    "    cam = normalize(cam)\n",
    "    \n",
    "    if show_only:\n",
    "        f, ax = plt.subplots(1,2,figsize=(14,5))\n",
    "        for i, title in enumerate(image_titles):\n",
    "            heatmap = np.uint8(cm.jet(cam[0])[..., :3] * 255)\n",
    "            ax[0].imshow(test_image)\n",
    "            ax[1].imshow(test_image)\n",
    "            cb = ax[1].imshow(heatmap, cmap='jet', alpha=0.5)\n",
    "            f.colorbar(cb)\n",
    "            plt.title(f\"Predicted class: {CLASSES[class_idxs_sorted[0]]} ({y_pred[0,class_idxs_sorted[0]]})\")\n",
    "        plt.tight_layout()\n",
    "        plt.show()\n",
    "        \n",
    "    else:\n",
    "        f, ax = plt.subplots(**subplot_args)\n",
    "        for i, title in enumerate(image_titles):\n",
    "            heatmap = np.uint8(cm.jet(cam[0])[..., :3] * 255)\n",
    "            ax.set_title(title, fontsize=14)\n",
    "            ax.imshow(test_image)\n",
    "            ax.imshow(heatmap, cmap='jet', alpha=0.5)\n",
    "            ax.axis('off')\n",
    "        plt.tight_layout()\n",
    "        plt.savefig(f'./Maps/{img_no}-{map_kind}.png')\n",
    "    plt.close()"
   ]
  },
  {
   "cell_type": "code",
   "execution_count": null,
   "id": "recovered-radical",
   "metadata": {
    "execution": {
     "iopub.execute_input": "2021-05-01T02:15:26.882952Z",
     "iopub.status.busy": "2021-05-01T02:15:26.882238Z",
     "iopub.status.idle": "2021-05-01T02:15:58.933262Z",
     "shell.execute_reply": "2021-05-01T02:15:58.933810Z"
    },
    "papermill": {
     "duration": 32.508829,
     "end_time": "2021-05-01T02:15:58.933985",
     "exception": false,
     "start_time": "2021-05-01T02:15:26.425156",
     "status": "completed"
    },
    "tags": []
   },
   "outputs": [],
   "source": [
    "for i in range(1):\n",
    "    attention_map('Gradcam', x_test[i], i, show_only=True)\n",
    "    attention_map('GradcamPlusPlus', x_test[i], i, show_only=True)\n",
    "    attention_map('ScoreCAM', x_test[i], i, show_only=True)"
   ]
  },
  {
   "cell_type": "code",
   "execution_count": null,
   "id": "improving-bonus",
   "metadata": {
    "execution": {
     "iopub.execute_input": "2021-05-01T02:27:04.341257Z",
     "iopub.status.busy": "2021-05-01T02:27:04.340433Z",
     "iopub.status.idle": "2021-05-01T02:27:04.344054Z",
     "shell.execute_reply": "2021-05-01T02:27:04.344507Z"
    },
    "papermill": {
     "duration": 0.490256,
     "end_time": "2021-05-01T02:27:04.344700",
     "exception": false,
     "start_time": "2021-05-01T02:27:03.854444",
     "status": "completed"
    },
    "tags": []
   },
   "outputs": [],
   "source": [
    "# Total time elapsed\n",
    "total_end = datetime.datetime.now()\n",
    "elapsed = total_end - total_start\n",
    "print ('Total time elapsed: ', elapsed)"
   ]
  },
  {
   "cell_type": "markdown",
   "id": "supreme-arnold",
   "metadata": {
    "papermill": {
     "duration": 0.477706,
     "end_time": "2021-05-01T02:27:05.299140",
     "exception": false,
     "start_time": "2021-05-01T02:27:04.821434",
     "status": "completed"
    },
    "tags": []
   },
   "source": [
    "----\n",
    "\n",
    "**LAD-FFR-Classifier** V.1.12.00 | Non-Invasive Fractional Flow Reserve Estimation using Deep Learning on Intermediate Left Anterior Descending Coronary Artery Lesion Angiography Images.\n",
    "<br>{Binary (FFR > 80, FFR ≤ 80) clasification with attention maps.}\n",
    "\n",
    "© Proposed method implementation by [**Mehrad Aria**](https://www.mehradaria.com/) for paper [[Non-Invasive Fractional Flow Reserve Estimation using Deep Learning on Intermediate Left Anterior Descending Coronary Artery Lesion Angiography Images](https://doi.org/X)].\n",
    "<br>Jun 2023 / Tabriz, Iran.\n",
    "\n",
    "----"
   ]
  }
 ],
 "metadata": {
  "kernelspec": {
   "display_name": "base",
   "language": "python",
   "name": "python3"
  },
  "language_info": {
   "codemirror_mode": {
    "name": "ipython",
    "version": 3
   },
   "file_extension": ".py",
   "mimetype": "text/x-python",
   "name": "python",
   "nbconvert_exporter": "python",
   "pygments_lexer": "ipython3",
   "version": "3.11.5"
  },
  "papermill": {
   "default_parameters": {},
   "duration": 2683.097769,
   "end_time": "2021-05-01T02:27:09.135289",
   "environment_variables": {},
   "exception": null,
   "input_path": "__notebook__.ipynb",
   "output_path": "__notebook__.ipynb",
   "parameters": {},
   "start_time": "2021-05-01T01:42:26.037520",
   "version": "2.3.3"
  }
 },
 "nbformat": 4,
 "nbformat_minor": 5
}
